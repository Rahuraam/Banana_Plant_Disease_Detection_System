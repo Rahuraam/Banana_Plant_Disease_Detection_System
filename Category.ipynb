{
 "cells": [
  {
   "cell_type": "code",
   "execution_count": 10,
   "metadata": {},
   "outputs": [],
   "source": [
    "import pandas as pd\n",
    "import numpy as np\n",
    "import os\n",
    "import cv2\n",
    "import matplotlib.pyplot as plt\n",
    "from sklearn.model_selection import train_test_split\n",
    "from sklearn.metrics import accuracy_score, classification_report, confusion_matrix\n",
    "import tensorflow as tf\n",
    "from tensorflow.keras import layers, models"
   ]
  },
  {
   "cell_type": "code",
   "execution_count": 11,
   "metadata": {},
   "outputs": [
    {
     "name": "stdout",
     "output_type": "stream",
     "text": [
      "         Category            Subcategory  \\\n",
      "0  BANANA DISEASE  RESIZED BANANA APHIDS   \n",
      "1  BANANA DISEASE  RESIZED BANANA APHIDS   \n",
      "2  BANANA DISEASE  RESIZED BANANA APHIDS   \n",
      "3  BANANA DISEASE  RESIZED BANANA APHIDS   \n",
      "4  BANANA DISEASE  RESIZED BANANA APHIDS   \n",
      "\n",
      "                                          Image_Path  \n",
      "0  dataset/BANANA DISEASE/RESIZED BANANA APHIDS/B...  \n",
      "1  dataset/BANANA DISEASE/RESIZED BANANA APHIDS/B...  \n",
      "2  dataset/BANANA DISEASE/RESIZED BANANA APHIDS/B...  \n",
      "3  dataset/BANANA DISEASE/RESIZED BANANA APHIDS/B...  \n",
      "4  dataset/BANANA DISEASE/RESIZED BANANA APHIDS/B...  \n",
      "(3876, 128, 128, 3) ['BANANA DISEASE' 'BANANA DISEASE' 'BANANA DISEASE' 'BANANA DISEASE'\n",
      " 'BANANA DISEASE']\n"
     ]
    }
   ],
   "source": [
    "# Load dataset CSV\n",
    "df = pd.read_csv('dataset/dataset.csv')\n",
    "\n",
    "# Check the first few rows to ensure data is loaded properly\n",
    "print(df.head())\n",
    "\n",
    "# Function to load and preprocess images\n",
    "def load_images_and_labels(df, img_size=(128, 128)):\n",
    "    images = []\n",
    "    labels = []\n",
    "    \n",
    "    for index, row in df.iterrows():\n",
    "        img_path = row['Image_Path']\n",
    "        label = row['Category']\n",
    "        \n",
    "        # Load image as grayscale\n",
    "        img = cv2.imread(img_path, cv2.IMREAD_GRAYSCALE)  # Read as grayscale\n",
    "        img = cv2.resize(img, img_size)\n",
    "        img = img / 255.0  # Normalize to [0, 1]\n",
    "        \n",
    "        # Duplicate grayscale to 3 channels to match VGG16 input shape\n",
    "        img = np.repeat(img[..., np.newaxis], 3, axis=-1)  # Convert (128, 128, 1) to (128, 128, 3)\n",
    "        \n",
    "        images.append(img)\n",
    "        labels.append(label)\n",
    "    \n",
    "    images = np.array(images)\n",
    "    labels = np.array(labels)\n",
    "    \n",
    "    return images, labels\n",
    "\n",
    "# Load images and labels from the CSV\n",
    "X, y = load_images_and_labels(df)\n",
    "\n",
    "# Print image shape and label distribution\n",
    "print(X.shape, y[:5])"
   ]
  },
  {
   "cell_type": "code",
   "execution_count": 12,
   "metadata": {},
   "outputs": [
    {
     "name": "stdout",
     "output_type": "stream",
     "text": [
      "Label distribution after encoding:\n",
      "0    2346\n",
      "1    1530\n",
      "Name: count, dtype: int64\n"
     ]
    },
    {
     "name": "stderr",
     "output_type": "stream",
     "text": [
      "c:\\Users\\MSI\\Desktop\\projects\\Banana plant disease detection\\.venv\\lib\\site-packages\\sklearn\\base.py:474: FutureWarning: `BaseEstimator._validate_data` is deprecated in 1.6 and will be removed in 1.7. Use `sklearn.utils.validation.validate_data` instead. This function becomes public and is part of the scikit-learn developer API.\n",
      "  warnings.warn(\n"
     ]
    },
    {
     "name": "stdout",
     "output_type": "stream",
     "text": [
      "Label distribution after SMOTE:\n",
      "0    2346\n",
      "1    2346\n",
      "Name: count, dtype: int64\n",
      "Training data class distribution:\n",
      "1    1884\n",
      "0    1869\n",
      "Name: count, dtype: int64\n"
     ]
    },
    {
     "name": "stderr",
     "output_type": "stream",
     "text": [
      "C:\\Users\\MSI\\AppData\\Local\\Temp\\ipykernel_6896\\4200611745.py:39: FutureWarning: \n",
      "\n",
      "Passing `palette` without assigning `hue` is deprecated and will be removed in v0.14.0. Assign the `x` variable to `hue` and set `legend=False` for the same effect.\n",
      "\n",
      "  sns.barplot(x=label_counts.index, y=label_counts.values, palette='viridis')\n"
     ]
    },
    {
     "data": {
      "image/png": "[encoded data removed]",
      "text/plain": [
       "<Figure size 800x600 with 1 Axes>"
      ]
     },
     "metadata": {},
     "output_type": "display_data"
    },
    {
     "name": "stdout",
     "output_type": "stream",
     "text": [
      "Training data size: (3753, 128, 128, 3), Test data size: (939, 128, 128, 3)\n"
     ]
    }
   ],
   "source": [
    "from sklearn.preprocessing import LabelEncoder\n",
    "from imblearn.over_sampling import SMOTE\n",
    "import seaborn as sns\n",
    "\n",
    "# Encode labels\n",
    "label_encoder = LabelEncoder()\n",
    "y_encoded = label_encoder.fit_transform(y)\n",
    "\n",
    "# Print the label distribution after encoding\n",
    "print(\"Label distribution after encoding:\")\n",
    "print(pd.Series(y_encoded).value_counts())\n",
    "\n",
    "# Ensure the classes are imbalanced with more 0's than 1's\n",
    "# Apply SMOTE to balance the classes by oversampling class 1\n",
    "smote = SMOTE(sampling_strategy='auto', random_state=42)\n",
    "X_resampled, y_resampled = smote.fit_resample(X.reshape(X.shape[0], -1), y_encoded)  # Reshape X for SMOTE\n",
    "\n",
    "# Reshape X back to its original shape after SMOTE\n",
    "X_resampled = X_resampled.reshape(-1, 128, 128, 3)\n",
    "\n",
    "# Check the label distribution after applying SMOTE\n",
    "print(\"Label distribution after SMOTE:\")\n",
    "print(pd.Series(y_resampled).value_counts())\n",
    "\n",
    "# Split data into training and test sets\n",
    "X_train, X_test, y_train, y_test = train_test_split(X_resampled, y_resampled, test_size=0.2, random_state=42)\n",
    "\n",
    "# Check the training data class distribution\n",
    "print(\"Training data class distribution:\")\n",
    "print(pd.Series(y_train).value_counts())\n",
    "\n",
    "# Plotting label distribution\n",
    "def plot_label_distribution(labels):\n",
    "    # Convert the labels into a pandas Series and count their occurrences\n",
    "    label_counts = pd.Series(labels).value_counts()\n",
    "    \n",
    "    # Create a seaborn barplot\n",
    "    plt.figure(figsize=(8, 6))\n",
    "    sns.barplot(x=label_counts.index, y=label_counts.values, palette='viridis')\n",
    "    \n",
    "    # Labeling the axes\n",
    "    plt.title('Label Distribution')\n",
    "    plt.xlabel('Labels')\n",
    "    plt.ylabel('Count')\n",
    "    \n",
    "    # Display the plot\n",
    "    plt.show()\n",
    "\n",
    "plot_label_distribution(y_resampled)\n",
    "\n",
    "print(f\"Training data size: {X_train.shape}, Test data size: {X_test.shape}\")"
   ]
  },
  {
   "cell_type": "code",
   "execution_count": 13,
   "metadata": {},
   "outputs": [
    {
     "name": "stdout",
     "output_type": "stream",
     "text": [
      "LabelEncoder has been saved successfully.\n"
     ]
    }
   ],
   "source": [
    "import pickle\n",
    "\n",
    "# Assuming you have already fitted your LabelEncoder (e.g., label_encoder)\n",
    "with open('category_label_encoder.pkl', 'wb') as file:\n",
    "    pickle.dump(label_encoder, file)\n",
    "\n",
    "print(\"LabelEncoder has been saved successfully.\")"
   ]
  },
  {
   "cell_type": "code",
   "execution_count": 14,
   "metadata": {},
   "outputs": [
    {
     "name": "stderr",
     "output_type": "stream",
     "text": [
      "c:\\Users\\MSI\\Desktop\\projects\\Banana plant disease detection\\.venv\\lib\\site-packages\\keras\\src\\layers\\convolutional\\base_conv.py:107: UserWarning: Do not pass an `input_shape`/`input_dim` argument to a layer. When using Sequential models, prefer using an `Input(shape)` object as the first layer in the model instead.\n",
      "  super().__init__(activity_regularizer=activity_regularizer, **kwargs)\n"
     ]
    },
    {
     "name": "stdout",
     "output_type": "stream",
     "text": [
      "Epoch 1/10\n",
      "\u001b[1m118/118\u001b[0m \u001b[32m━━━━━━━━━━━━━━━━━━━━\u001b[0m\u001b[37m\u001b[0m \u001b[1m42s\u001b[0m 312ms/step - accuracy: 0.6854 - loss: 2.5303 - val_accuracy: 0.5463 - val_loss: 3.3693\n",
      "Epoch 2/10\n",
      "\u001b[1m118/118\u001b[0m \u001b[32m━━━━━━━━━━━━━━━━━━━━\u001b[0m\u001b[37m\u001b[0m \u001b[1m35s\u001b[0m 293ms/step - accuracy: 0.8135 - loss: 0.5150 - val_accuracy: 0.6944 - val_loss: 1.0369\n",
      "Epoch 3/10\n",
      "\u001b[1m118/118\u001b[0m \u001b[32m━━━━━━━━━━━━━━━━━━━━\u001b[0m\u001b[37m\u001b[0m \u001b[1m35s\u001b[0m 299ms/step - accuracy: 0.8430 - loss: 0.4428 - val_accuracy: 0.7508 - val_loss: 0.7426\n",
      "Epoch 4/10\n",
      "\u001b[1m118/118\u001b[0m \u001b[32m━━━━━━━━━━━━━━━━━━━━\u001b[0m\u001b[37m\u001b[0m \u001b[1m35s\u001b[0m 294ms/step - accuracy: 0.8687 - loss: 0.3376 - val_accuracy: 0.6560 - val_loss: 1.6588\n",
      "Epoch 5/10\n",
      "\u001b[1m118/118\u001b[0m \u001b[32m━━━━━━━━━━━━━━━━━━━━\u001b[0m\u001b[37m\u001b[0m \u001b[1m35s\u001b[0m 299ms/step - accuracy: 0.8842 - loss: 0.2576 - val_accuracy: 0.8435 - val_loss: 0.3086\n",
      "Epoch 6/10\n",
      "\u001b[1m118/118\u001b[0m \u001b[32m━━━━━━━━━━━━━━━━━━━━\u001b[0m\u001b[37m\u001b[0m \u001b[1m35s\u001b[0m 295ms/step - accuracy: 0.8929 - loss: 0.2383 - val_accuracy: 0.9052 - val_loss: 0.2252\n",
      "Epoch 7/10\n",
      "\u001b[1m118/118\u001b[0m \u001b[32m━━━━━━━━━━━━━━━━━━━━\u001b[0m\u001b[37m\u001b[0m \u001b[1m34s\u001b[0m 291ms/step - accuracy: 0.9181 - loss: 0.1961 - val_accuracy: 0.8477 - val_loss: 0.3721\n",
      "Epoch 8/10\n",
      "\u001b[1m118/118\u001b[0m \u001b[32m━━━━━━━━━━━━━━━━━━━━\u001b[0m\u001b[37m\u001b[0m \u001b[1m34s\u001b[0m 286ms/step - accuracy: 0.9130 - loss: 0.1956 - val_accuracy: 0.8786 - val_loss: 0.3165\n",
      "Epoch 9/10\n",
      "\u001b[1m118/118\u001b[0m \u001b[32m━━━━━━━━━━━━━━━━━━━━\u001b[0m\u001b[37m\u001b[0m \u001b[1m34s\u001b[0m 288ms/step - accuracy: 0.9186 - loss: 0.2041 - val_accuracy: 0.8573 - val_loss: 0.3864\n",
      "Epoch 10/10\n",
      "\u001b[1m118/118\u001b[0m \u001b[32m━━━━━━━━━━━━━━━━━━━━\u001b[0m\u001b[37m\u001b[0m \u001b[1m34s\u001b[0m 291ms/step - accuracy: 0.9251 - loss: 0.1814 - val_accuracy: 0.8679 - val_loss: 0.3205\n"
     ]
    },
    {
     "name": "stderr",
     "output_type": "stream",
     "text": [
      "WARNING:absl:You are saving your model as an HDF5 file via `model.save()` or `keras.saving.save_model(model)`. This file format is considered legacy. We recommend using instead the native Keras format, e.g. `model.save('my_model.keras')` or `keras.saving.save_model(model, 'my_model.keras')`. \n"
     ]
    }
   ],
   "source": [
    "def create_cnn_model(input_shape=(128, 128, 1), num_classes=5):\n",
    "    model = models.Sequential()\n",
    "    model.add(layers.Conv2D(32, (3, 3), activation='relu', input_shape=input_shape))\n",
    "    model.add(layers.BatchNormalization())\n",
    "    model.add(layers.MaxPooling2D((2, 2)))\n",
    "\n",
    "    model.add(layers.Conv2D(64, (3, 3), activation='relu'))\n",
    "    model.add(layers.BatchNormalization())\n",
    "    model.add(layers.MaxPooling2D((2, 2)))\n",
    "\n",
    "    model.add(layers.Conv2D(128, (3, 3), activation='relu'))\n",
    "    model.add(layers.BatchNormalization())\n",
    "    model.add(layers.MaxPooling2D((2, 2)))\n",
    "\n",
    "    model.add(layers.Flatten())\n",
    "    model.add(layers.Dense(128, activation='relu'))\n",
    "    model.add(layers.Dropout(0.5))\n",
    "    model.add(layers.Dense(num_classes, activation='softmax'))\n",
    "    \n",
    "    model.compile(optimizer='adam', loss='sparse_categorical_crossentropy', metrics=['accuracy'])\n",
    "    return model\n",
    "\n",
    "# Build the model\n",
    "cnn_model = create_cnn_model(input_shape=X_train.shape[1:], num_classes=len(np.unique(y_encoded)))\n",
    "\n",
    "# Train the CNN model\n",
    "cnn_history = cnn_model.fit(X_train, y_train, epochs=10, batch_size=32, validation_data=(X_test, y_test))\n",
    "\n",
    "# Save the model if needed\n",
    "cnn_model.save('category_banana_cnn_model.h5')"
   ]
  },
  {
   "cell_type": "code",
   "execution_count": 15,
   "metadata": {},
   "outputs": [
    {
     "name": "stdout",
     "output_type": "stream",
     "text": [
      "\u001b[1m30/30\u001b[0m \u001b[32m━━━━━━━━━━━━━━━━━━━━\u001b[0m\u001b[37m\u001b[0m \u001b[1m3s\u001b[0m 111ms/step - accuracy: 0.8675 - loss: 0.3346\n",
      "CNN Model Accuracy: 86.79%\n",
      "\u001b[1m30/30\u001b[0m \u001b[32m━━━━━━━━━━━━━━━━━━━━\u001b[0m\u001b[37m\u001b[0m \u001b[1m5s\u001b[0m 125ms/step\n",
      "              precision    recall  f1-score   support\n",
      "\n",
      "           0       0.82      0.95      0.88       477\n",
      "           1       0.94      0.78      0.85       462\n",
      "\n",
      "    accuracy                           0.87       939\n",
      "   macro avg       0.88      0.87      0.87       939\n",
      "weighted avg       0.88      0.87      0.87       939\n",
      "\n",
      "[[455  22]\n",
      " [102 360]]\n"
     ]
    }
   ],
   "source": [
    "cnn_test_loss, cnn_test_acc = cnn_model.evaluate(X_test, y_test)\n",
    "print(f\"CNN Model Accuracy: {cnn_test_acc * 100:.2f}%\")\n",
    "\n",
    "# Predict using the trained model\n",
    "cnn_predictions = cnn_model.predict(X_test)\n",
    "cnn_pred_labels = np.argmax(cnn_predictions, axis=1)\n",
    "\n",
    "# Print the classification report and confusion matrix\n",
    "print(classification_report(y_test, cnn_pred_labels))\n",
    "print(confusion_matrix(y_test, cnn_pred_labels))"
   ]
  },
  {
   "cell_type": "code",
   "execution_count": 16,
   "metadata": {},
   "outputs": [
    {
     "name": "stdout",
     "output_type": "stream",
     "text": [
      "Epoch 1/10\n",
      "\u001b[1m118/118\u001b[0m \u001b[32m━━━━━━━━━━━━━━━━━━━━\u001b[0m\u001b[37m\u001b[0m \u001b[1m261s\u001b[0m 2s/step - accuracy: 0.7777 - loss: 0.5436 - val_accuracy: 0.9073 - val_loss: 0.2039\n",
      "Epoch 2/10\n",
      "\u001b[1m118/118\u001b[0m \u001b[32m━━━━━━━━━━━━━━━━━━━━\u001b[0m\u001b[37m\u001b[0m \u001b[1m275s\u001b[0m 2s/step - accuracy: 0.9432 - loss: 0.1506 - val_accuracy: 0.8626 - val_loss: 0.3762\n",
      "Epoch 3/10\n",
      "\u001b[1m118/118\u001b[0m \u001b[32m━━━━━━━━━━━━━━━━━━━━\u001b[0m\u001b[37m\u001b[0m \u001b[1m303s\u001b[0m 2s/step - accuracy: 0.9338 - loss: 0.1606 - val_accuracy: 0.9148 - val_loss: 0.2223\n",
      "Epoch 4/10\n",
      "\u001b[1m118/118\u001b[0m \u001b[32m━━━━━━━━━━━━━━━━━━━━\u001b[0m\u001b[37m\u001b[0m \u001b[1m417s\u001b[0m 4s/step - accuracy: 0.9327 - loss: 0.1754 - val_accuracy: 0.9084 - val_loss: 0.2097\n",
      "Epoch 5/10\n",
      "\u001b[1m118/118\u001b[0m \u001b[32m━━━━━━━━━━━━━━━━━━━━\u001b[0m\u001b[37m\u001b[0m \u001b[1m685s\u001b[0m 6s/step - accuracy: 0.9527 - loss: 0.1057 - val_accuracy: 0.8988 - val_loss: 0.2473\n",
      "Epoch 6/10\n",
      "\u001b[1m118/118\u001b[0m \u001b[32m━━━━━━━━━━━━━━━━━━━━\u001b[0m\u001b[37m\u001b[0m \u001b[1m177s\u001b[0m 1s/step - accuracy: 0.9511 - loss: 0.0977 - val_accuracy: 0.9297 - val_loss: 0.2059\n",
      "Epoch 7/10\n",
      "\u001b[1m118/118\u001b[0m \u001b[32m━━━━━━━━━━━━━━━━━━━━\u001b[0m\u001b[37m\u001b[0m \u001b[1m190s\u001b[0m 2s/step - accuracy: 0.9594 - loss: 0.1006 - val_accuracy: 0.8956 - val_loss: 0.3352\n",
      "Epoch 8/10\n",
      "\u001b[1m118/118\u001b[0m \u001b[32m━━━━━━━━━━━━━━━━━━━━\u001b[0m\u001b[37m\u001b[0m \u001b[1m192s\u001b[0m 2s/step - accuracy: 0.9597 - loss: 0.1012 - val_accuracy: 0.9105 - val_loss: 0.1768\n",
      "Epoch 9/10\n",
      "\u001b[1m118/118\u001b[0m \u001b[32m━━━━━━━━━━━━━━━━━━━━\u001b[0m\u001b[37m\u001b[0m \u001b[1m202s\u001b[0m 2s/step - accuracy: 0.9665 - loss: 0.0779 - val_accuracy: 0.9340 - val_loss: 0.2011\n",
      "Epoch 10/10\n",
      "\u001b[1m118/118\u001b[0m \u001b[32m━━━━━━━━━━━━━━━━━━━━\u001b[0m\u001b[37m\u001b[0m \u001b[1m193s\u001b[0m 2s/step - accuracy: 0.9543 - loss: 0.1022 - val_accuracy: 0.9276 - val_loss: 0.1506\n",
      "\u001b[1m30/30\u001b[0m \u001b[32m━━━━━━━━━━━━━━━━━━━━\u001b[0m\u001b[37m\u001b[0m \u001b[1m39s\u001b[0m 1s/step - accuracy: 0.9230 - loss: 0.1550\n",
      "VGG16 Model Accuracy: 92.76%\n"
     ]
    }
   ],
   "source": [
    "from tensorflow.keras.applications import VGG16\n",
    "from tensorflow.keras import layers, models\n",
    "\n",
    "def create_vgg16_model(input_shape=(128, 128, 3), num_classes=5):\n",
    "    base_model = VGG16(weights='imagenet', include_top=False, input_shape=input_shape)\n",
    "    base_model.trainable = False  # Freeze base model layers\n",
    "    \n",
    "    model = models.Sequential([\n",
    "        base_model,\n",
    "        layers.Flatten(),\n",
    "        layers.Dense(128, activation='relu'),\n",
    "        layers.Dense(num_classes, activation='softmax')\n",
    "    ])\n",
    "    \n",
    "    model.compile(optimizer='adam', loss='sparse_categorical_crossentropy', metrics=['accuracy'])\n",
    "    return model\n",
    "\n",
    "# Build and train the VGG16-based model without ImageDataGenerator\n",
    "vgg16_model = create_vgg16_model(input_shape=X_train.shape[1:], num_classes=len(np.unique(y_encoded)))\n",
    "\n",
    "# Train the VGG16 model directly on the data\n",
    "vgg16_history = vgg16_model.fit(X_train, y_train, epochs=10, batch_size=32, validation_data=(X_test, y_test))\n",
    "\n",
    "# Evaluate the VGG16 model\n",
    "vgg16_test_loss, vgg16_test_acc = vgg16_model.evaluate(X_test, y_test)\n",
    "print(f\"VGG16 Model Accuracy: {vgg16_test_acc * 100:.2f}%\")"
   ]
  },
  {
   "cell_type": "code",
   "execution_count": 17,
   "metadata": {},
   "outputs": [
    {
     "name": "stdout",
     "output_type": "stream",
     "text": [
      "Epoch 1/10\n",
      "\u001b[1m118/118\u001b[0m \u001b[32m━━━━━━━━━━━━━━━━━━━━\u001b[0m\u001b[37m\u001b[0m \u001b[1m105s\u001b[0m 731ms/step - accuracy: 0.6094 - loss: 0.6717 - val_accuracy: 0.7029 - val_loss: 0.5435\n",
      "Epoch 2/10\n",
      "\u001b[1m118/118\u001b[0m \u001b[32m━━━━━━━━━━━━━━━━━━━━\u001b[0m\u001b[37m\u001b[0m \u001b[1m90s\u001b[0m 764ms/step - accuracy: 0.7245 - loss: 0.5273 - val_accuracy: 0.7188 - val_loss: 0.5453\n",
      "Epoch 3/10\n",
      "\u001b[1m118/118\u001b[0m \u001b[32m━━━━━━━━━━━━━━━━━━━━\u001b[0m\u001b[37m\u001b[0m \u001b[1m91s\u001b[0m 770ms/step - accuracy: 0.7241 - loss: 0.5257 - val_accuracy: 0.7316 - val_loss: 0.5112\n",
      "Epoch 4/10\n",
      "\u001b[1m118/118\u001b[0m \u001b[32m━━━━━━━━━━━━━━━━━━━━\u001b[0m\u001b[37m\u001b[0m \u001b[1m92s\u001b[0m 779ms/step - accuracy: 0.7406 - loss: 0.4943 - val_accuracy: 0.7401 - val_loss: 0.4855\n",
      "Epoch 5/10\n",
      "\u001b[1m118/118\u001b[0m \u001b[32m━━━━━━━━━━━━━━━━━━━━\u001b[0m\u001b[37m\u001b[0m \u001b[1m91s\u001b[0m 771ms/step - accuracy: 0.7634 - loss: 0.4537 - val_accuracy: 0.7657 - val_loss: 0.4615\n",
      "Epoch 6/10\n",
      "\u001b[1m118/118\u001b[0m \u001b[32m━━━━━━━━━━━━━━━━━━━━\u001b[0m\u001b[37m\u001b[0m \u001b[1m142s\u001b[0m 765ms/step - accuracy: 0.7689 - loss: 0.4407 - val_accuracy: 0.7796 - val_loss: 0.4454\n",
      "Epoch 7/10\n",
      "\u001b[1m118/118\u001b[0m \u001b[32m━━━━━━━━━━━━━━━━━━━━\u001b[0m\u001b[37m\u001b[0m \u001b[1m92s\u001b[0m 777ms/step - accuracy: 0.7819 - loss: 0.4274 - val_accuracy: 0.7977 - val_loss: 0.4368\n",
      "Epoch 8/10\n",
      "\u001b[1m118/118\u001b[0m \u001b[32m━━━━━━━━━━━━━━━━━━━━\u001b[0m\u001b[37m\u001b[0m \u001b[1m140s\u001b[0m 761ms/step - accuracy: 0.7889 - loss: 0.4105 - val_accuracy: 0.7796 - val_loss: 0.4245\n",
      "Epoch 9/10\n",
      "\u001b[1m118/118\u001b[0m \u001b[32m━━━━━━━━━━━━━━━━━━━━\u001b[0m\u001b[37m\u001b[0m \u001b[1m91s\u001b[0m 769ms/step - accuracy: 0.7916 - loss: 0.4020 - val_accuracy: 0.8094 - val_loss: 0.4239\n",
      "Epoch 10/10\n",
      "\u001b[1m118/118\u001b[0m \u001b[32m━━━━━━━━━━━━━━━━━━━━\u001b[0m\u001b[37m\u001b[0m \u001b[1m90s\u001b[0m 762ms/step - accuracy: 0.8129 - loss: 0.3904 - val_accuracy: 0.7529 - val_loss: 0.4628\n",
      "\u001b[1m30/30\u001b[0m \u001b[32m━━━━━━━━━━━━━━━━━━━━\u001b[0m\u001b[37m\u001b[0m \u001b[1m18s\u001b[0m 605ms/step - accuracy: 0.7575 - loss: 0.4591\n",
      "ResNet50 Model Accuracy: 75.29%\n"
     ]
    }
   ],
   "source": [
    "from tensorflow.keras.applications import ResNet50\n",
    "from tensorflow.keras import layers, models\n",
    "\n",
    "def create_resnet50_model(input_shape=(128, 128, 3), num_classes=5):\n",
    "    # Load ResNet50 pre-trained model without the top classification layers\n",
    "    base_model = ResNet50(weights='imagenet', include_top=False, input_shape=input_shape)\n",
    "    base_model.trainable = False  # Initially freeze the base model layers\n",
    "    \n",
    "    model = models.Sequential([\n",
    "        base_model,\n",
    "        layers.GlobalAveragePooling2D(),\n",
    "        layers.Dense(128, activation='relu'),\n",
    "        layers.Dense(num_classes, activation='softmax')\n",
    "    ])\n",
    "    \n",
    "    model.compile(optimizer='adam', loss='sparse_categorical_crossentropy', metrics=['accuracy'])\n",
    "    return model\n",
    "\n",
    "# Build and train the ResNet50-based model without ImageDataGenerator\n",
    "resnet50_model = create_resnet50_model(input_shape=X_train.shape[1:], num_classes=len(np.unique(y_encoded)))\n",
    "\n",
    "# Train the ResNet50 model directly on the data\n",
    "resnet50_history = resnet50_model.fit(X_train, y_train, epochs=10, batch_size=32, validation_data=(X_test, y_test))\n",
    "\n",
    "# Evaluate the ResNet50 model\n",
    "resnet50_test_loss, resnet50_test_acc = resnet50_model.evaluate(X_test, y_test)\n",
    "print(f\"ResNet50 Model Accuracy: {resnet50_test_acc * 100:.2f}%\")\n"
   ]
  },
  {
   "cell_type": "code",
   "execution_count": 18,
   "metadata": {},
   "outputs": [
    {
     "name": "stdout",
     "output_type": "stream",
     "text": [
      "Epoch 1/10\n",
      "\u001b[1m118/118\u001b[0m \u001b[32m━━━━━━━━━━━━━━━━━━━━\u001b[0m\u001b[37m\u001b[0m \u001b[1m192s\u001b[0m 2s/step - accuracy: 0.9597 - loss: 0.0882 - val_accuracy: 0.9084 - val_loss: 0.1902\n",
      "Epoch 2/10\n",
      "\u001b[1m118/118\u001b[0m \u001b[32m━━━━━━━━━━━━━━━━━━━━\u001b[0m\u001b[37m\u001b[0m \u001b[1m191s\u001b[0m 2s/step - accuracy: 0.9544 - loss: 0.1059 - val_accuracy: 0.9255 - val_loss: 0.1870\n",
      "Epoch 3/10\n",
      "\u001b[1m118/118\u001b[0m \u001b[32m━━━━━━━━━━━━━━━━━━━━\u001b[0m\u001b[37m\u001b[0m \u001b[1m191s\u001b[0m 2s/step - accuracy: 0.9655 - loss: 0.0758 - val_accuracy: 0.9180 - val_loss: 0.1944\n",
      "Epoch 4/10\n",
      "\u001b[1m118/118\u001b[0m \u001b[32m━━━━━━━━━━━━━━━━━━━━\u001b[0m\u001b[37m\u001b[0m \u001b[1m191s\u001b[0m 2s/step - accuracy: 0.9579 - loss: 0.0844 - val_accuracy: 0.9169 - val_loss: 0.2287\n",
      "Epoch 5/10\n",
      "\u001b[1m118/118\u001b[0m \u001b[32m━━━━━━━━━━━━━━━━━━━━\u001b[0m\u001b[37m\u001b[0m \u001b[1m192s\u001b[0m 2s/step - accuracy: 0.9661 - loss: 0.0736 - val_accuracy: 0.9255 - val_loss: 0.2125\n",
      "Epoch 6/10\n",
      "\u001b[1m118/118\u001b[0m \u001b[32m━━━━━━━━━━━━━━━━━━━━\u001b[0m\u001b[37m\u001b[0m \u001b[1m171s\u001b[0m 1s/step - accuracy: 0.9633 - loss: 0.0745 - val_accuracy: 0.9276 - val_loss: 0.1899\n",
      "Epoch 7/10\n",
      "\u001b[1m118/118\u001b[0m \u001b[32m━━━━━━━━━━━━━━━━━━━━\u001b[0m\u001b[37m\u001b[0m \u001b[1m182s\u001b[0m 2s/step - accuracy: 0.9646 - loss: 0.0819 - val_accuracy: 0.9265 - val_loss: 0.1823\n",
      "Epoch 8/10\n",
      "\u001b[1m118/118\u001b[0m \u001b[32m━━━━━━━━━━━━━━━━━━━━\u001b[0m\u001b[37m\u001b[0m \u001b[1m170s\u001b[0m 1s/step - accuracy: 0.9653 - loss: 0.0788 - val_accuracy: 0.9255 - val_loss: 0.2369\n",
      "Epoch 9/10\n",
      "\u001b[1m118/118\u001b[0m \u001b[32m━━━━━━━━━━━━━━━━━━━━\u001b[0m\u001b[37m\u001b[0m \u001b[1m172s\u001b[0m 1s/step - accuracy: 0.9670 - loss: 0.0659 - val_accuracy: 0.9255 - val_loss: 0.2216\n",
      "Epoch 10/10\n",
      "\u001b[1m118/118\u001b[0m \u001b[32m━━━━━━━━━━━━━━━━━━━━\u001b[0m\u001b[37m\u001b[0m \u001b[1m223s\u001b[0m 2s/step - accuracy: 0.9686 - loss: 0.0697 - val_accuracy: 0.9244 - val_loss: 0.2130\n",
      "\u001b[1m30/30\u001b[0m \u001b[32m━━━━━━━━━━━━━━━━━━━━\u001b[0m\u001b[37m\u001b[0m \u001b[1m47s\u001b[0m 2s/step - accuracy: 0.9314 - loss: 0.2200\n",
      "Fine-tuned VGG16 Model Accuracy: 92.44%\n",
      "\u001b[1m30/30\u001b[0m \u001b[32m━━━━━━━━━━━━━━━━━━━━\u001b[0m\u001b[37m\u001b[0m \u001b[1m49s\u001b[0m 2s/step\n",
      "              precision    recall  f1-score   support\n",
      "\n",
      "           0       0.92      0.93      0.93       477\n",
      "           1       0.93      0.92      0.92       462\n",
      "\n",
      "    accuracy                           0.92       939\n",
      "   macro avg       0.92      0.92      0.92       939\n",
      "weighted avg       0.92      0.92      0.92       939\n",
      "\n",
      "[[443  34]\n",
      " [ 37 425]]\n",
      "Epoch 1/10\n",
      "\u001b[1m118/118\u001b[0m \u001b[32m━━━━━━━━━━━━━━━━━━━━\u001b[0m\u001b[37m\u001b[0m \u001b[1m107s\u001b[0m 889ms/step - accuracy: 0.8034 - loss: 0.3846 - val_accuracy: 0.8040 - val_loss: 0.4036\n",
      "Epoch 2/10\n",
      "\u001b[1m118/118\u001b[0m \u001b[32m━━━━━━━━━━━━━━━━━━━━\u001b[0m\u001b[37m\u001b[0m \u001b[1m101s\u001b[0m 858ms/step - accuracy: 0.8018 - loss: 0.4022 - val_accuracy: 0.7987 - val_loss: 0.4042\n",
      "Epoch 3/10\n",
      "\u001b[1m118/118\u001b[0m \u001b[32m━━━━━━━━━━━━━━━━━━━━\u001b[0m\u001b[37m\u001b[0m \u001b[1m115s\u001b[0m 981ms/step - accuracy: 0.7909 - loss: 0.4197 - val_accuracy: 0.7657 - val_loss: 0.4263\n",
      "Epoch 4/10\n",
      "\u001b[1m118/118\u001b[0m \u001b[32m━━━━━━━━━━━━━━━━━━━━\u001b[0m\u001b[37m\u001b[0m \u001b[1m127s\u001b[0m 851ms/step - accuracy: 0.8115 - loss: 0.3828 - val_accuracy: 0.8094 - val_loss: 0.3944\n",
      "Epoch 5/10\n",
      "\u001b[1m118/118\u001b[0m \u001b[32m━━━━━━━━━━━━━━━━━━━━\u001b[0m\u001b[37m\u001b[0m \u001b[1m144s\u001b[0m 863ms/step - accuracy: 0.8283 - loss: 0.3730 - val_accuracy: 0.8243 - val_loss: 0.3954\n",
      "Epoch 6/10\n",
      "\u001b[1m118/118\u001b[0m \u001b[32m━━━━━━━━━━━━━━━━━━━━\u001b[0m\u001b[37m\u001b[0m \u001b[1m104s\u001b[0m 879ms/step - accuracy: 0.8380 - loss: 0.3628 - val_accuracy: 0.8190 - val_loss: 0.3845\n",
      "Epoch 7/10\n",
      "\u001b[1m118/118\u001b[0m \u001b[32m━━━━━━━━━━━━━━━━━━━━\u001b[0m\u001b[37m\u001b[0m \u001b[1m104s\u001b[0m 876ms/step - accuracy: 0.8350 - loss: 0.3493 - val_accuracy: 0.8190 - val_loss: 0.3825\n",
      "Epoch 8/10\n",
      "\u001b[1m118/118\u001b[0m \u001b[32m━━━━━━━━━━━━━━━━━━━━\u001b[0m\u001b[37m\u001b[0m \u001b[1m104s\u001b[0m 881ms/step - accuracy: 0.8482 - loss: 0.3330 - val_accuracy: 0.8232 - val_loss: 0.3794\n",
      "Epoch 9/10\n",
      "\u001b[1m118/118\u001b[0m \u001b[32m━━━━━━━━━━━━━━━━━━━━\u001b[0m\u001b[37m\u001b[0m \u001b[1m65s\u001b[0m 546ms/step - accuracy: 0.8414 - loss: 0.3462 - val_accuracy: 0.8200 - val_loss: 0.3781\n",
      "Epoch 10/10\n",
      "\u001b[1m118/118\u001b[0m \u001b[32m━━━━━━━━━━━━━━━━━━━━\u001b[0m\u001b[37m\u001b[0m \u001b[1m102s\u001b[0m 865ms/step - accuracy: 0.8315 - loss: 0.3589 - val_accuracy: 0.8264 - val_loss: 0.3775\n",
      "\u001b[1m30/30\u001b[0m \u001b[32m━━━━━━━━━━━━━━━━━━━━\u001b[0m\u001b[37m\u001b[0m \u001b[1m18s\u001b[0m 596ms/step - accuracy: 0.8357 - loss: 0.3889\n",
      "Fine-tuned ResNet50 Model Accuracy: 82.64%\n"
     ]
    }
   ],
   "source": [
    "# Fine-tune VGG16\n",
    "vgg16_model.trainable = True  # Unfreeze VGG16 base model\n",
    "for layer in vgg16_model.layers[:15]:  # Freeze the first 15 layers\n",
    "    layer.trainable = False\n",
    "\n",
    "# Fine-tune VGG16 model directly on the data\n",
    "vgg16_finetune_history = vgg16_model.fit(X_train, y_train, epochs=10, batch_size=32, validation_data=(X_test, y_test))\n",
    "\n",
    "# Fine-tune VGG16 model evaluation\n",
    "vgg16_finetune_loss, vgg16_finetune_acc = vgg16_model.evaluate(X_test, y_test)\n",
    "print(f\"Fine-tuned VGG16 Model Accuracy: {vgg16_finetune_acc * 100:.2f}%\")\n",
    "\n",
    "# Predict using the fine-tuned VGG16 model\n",
    "vgg16_finetune_predictions = vgg16_model.predict(X_test)\n",
    "vgg16_finetune_pred_labels = np.argmax(vgg16_finetune_predictions, axis=1)\n",
    "\n",
    "# Print the classification report and confusion matrix\n",
    "from sklearn.metrics import classification_report, confusion_matrix\n",
    "print(classification_report(y_test, vgg16_finetune_pred_labels))\n",
    "print(confusion_matrix(y_test, vgg16_finetune_pred_labels))\n",
    "\n",
    "# Fine-tune ResNet50\n",
    "resnet50_model.trainable = True  # Unfreeze ResNet50 base model\n",
    "for layer in resnet50_model.layers[:100]:  # Freeze the first 100 layers\n",
    "    layer.trainable = False\n",
    "\n",
    "# Fine-tune ResNet50 model directly on the data\n",
    "resnet50_finetune_history = resnet50_model.fit(X_train, y_train, epochs=10, batch_size=32, validation_data=(X_test, y_test))\n",
    "\n",
    "# Fine-tune ResNet50 model evaluation\n",
    "resnet50_finetune_loss, resnet50_finetune_acc = resnet50_model.evaluate(X_test, y_test)\n",
    "print(f\"Fine-tuned ResNet50 Model Accuracy: {resnet50_finetune_acc * 100:.2f}%\")\n"
   ]
  },
  {
   "cell_type": "code",
   "execution_count": 19,
   "metadata": {},
   "outputs": [
    {
     "data": {
      "image/png": "[encoded data removed]",
      "text/plain": [
       "<Figure size 640x480 with 1 Axes>"
      ]
     },
     "metadata": {},
     "output_type": "display_data"
    },
    {
     "name": "stdout",
     "output_type": "stream",
     "text": [
      "CNN Test Accuracy: 86.79%\n",
      "VGG16 Test Accuracy: 92.76%\n",
      "ResNet50 Test Accuracy: 75.29%\n"
     ]
    }
   ],
   "source": [
    "# Plot training history for all three models\n",
    "plt.plot(cnn_history.history['accuracy'], label='CNN Training Accuracy')\n",
    "plt.plot(cnn_history.history['val_accuracy'], label='CNN Validation Accuracy')\n",
    "plt.plot(vgg16_history.history['accuracy'], label='VGG16 Training Accuracy')\n",
    "plt.plot(vgg16_history.history['val_accuracy'], label='VGG16 Validation Accuracy')\n",
    "plt.plot(resnet50_history.history['accuracy'], label='ResNet50 Training Accuracy')\n",
    "plt.plot(resnet50_history.history['val_accuracy'], label='ResNet50 Validation Accuracy')\n",
    "\n",
    "plt.title('Model Comparison: CNN, VGG16, and ResNet50')\n",
    "plt.xlabel('Epochs')\n",
    "plt.ylabel('Accuracy')\n",
    "plt.legend()\n",
    "plt.show()\n",
    "\n",
    "# Compare final accuracy for all three models\n",
    "print(f\"CNN Test Accuracy: {cnn_test_acc * 100:.2f}%\")\n",
    "print(f\"VGG16 Test Accuracy: {vgg16_test_acc * 100:.2f}%\")\n",
    "print(f\"ResNet50 Test Accuracy: {resnet50_test_acc * 100:.2f}%\")"
   ]
  },
  {
   "cell_type": "code",
   "execution_count": 20,
   "metadata": {},
   "outputs": [
    {
     "name": "stderr",
     "output_type": "stream",
     "text": [
      "WARNING:absl:You are saving your model as an HDF5 file via `model.save()` or `keras.saving.save_model(model)`. This file format is considered legacy. We recommend using instead the native Keras format, e.g. `model.save('my_model.keras')` or `keras.saving.save_model(model, 'my_model.keras')`. \n"
     ]
    }
   ],
   "source": [
    "vgg16_model.save('category_banana_vgg16_model.h5')"
   ]
  },
  {
   "cell_type": "code",
   "execution_count": null,
   "metadata": {},
   "outputs": [],
   "source": []
  }
 ],
 "metadata": {
  "kernelspec": {
   "display_name": ".venv",
   "language": "python",
   "name": "python3"
  },
  "language_info": {
   "codemirror_mode": {
    "name": "ipython",
    "version": 3
   },
   "file_extension": ".py",
   "mimetype": "text/x-python",
   "name": "python",
   "nbconvert_exporter": "python",
   "pygments_lexer": "ipython3",
   "version": "3.9.13"
  }
 },
 "nbformat": 4,
 "nbformat_minor": 2
}
